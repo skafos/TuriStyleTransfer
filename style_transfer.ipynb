{
 "cells": [
  {
   "cell_type": "code",
   "execution_count": 1,
   "metadata": {},
   "outputs": [
    {
     "name": "stdout",
     "output_type": "stream",
     "text": [
      "Using 'image' in style_dataset as feature column and using 'image' in content_dataset as feature column\n",
      "\n",
      "ERROR: Incomplete installation for leveraging GPUs for computations.\n",
      "Please make sure you have CUDA installed and run the following line in\n",
      "your terminal and try again:\n",
      "\n",
      "    pip uninstall -y mxnet && pip install mxnet-cu90==1.1.0\n",
      "\n",
      "Adjust 'cu90' depending on your CUDA version ('cu75' and 'cu80' are also available).\n",
      "You can also disable GPU usage altogether by invoking turicreate.config.set_num_gpus(0)\n"
     ]
    },
    {
     "ename": "SystemExit",
     "evalue": "1",
     "output_type": "error",
     "traceback": [
      "An exception has occurred, use %tb to see the full traceback.\n",
      "\u001b[0;31mSystemExit\u001b[0m\u001b[0;31m:\u001b[0m 1\n"
     ]
    },
    {
     "name": "stderr",
     "output_type": "stream",
     "text": [
      "/home/griffin/anaconda3/lib/python3.6/site-packages/IPython/core/interactiveshell.py:3275: UserWarning: To exit: use 'exit', 'quit', or Ctrl-D.\n",
      "  warn(\"To exit: use 'exit', 'quit', or Ctrl-D.\", stacklevel=1)\n"
     ]
    }
   ],
   "source": [
    "import turicreate as tc\n",
    "\n",
    "# Load the style and content images\n",
    "styles = tc.load_images('./styles/')\n",
    "content = tc.load_images('./content/')\n",
    "\n",
    "# Create a Style Transfer model\n",
    "model = tc.style_transfer.create(styles, content)"
   ]
  },
  {
   "cell_type": "code",
   "execution_count": null,
   "metadata": {},
   "outputs": [],
   "source": [
    "# Save the model for later use in Turi Create\n",
    "model.save('./MyStyleTransfer.model')\n",
    "\n",
    "# Export for use in Core ML\n",
    "model.export_coreml('./MyStyleTransfer.mlmodel')"
   ]
  },
  {
   "cell_type": "code",
   "execution_count": null,
   "metadata": {},
   "outputs": [],
   "source": [
    "# Load some test images\n",
    "test_images = tc.load_images('./content/')\n",
    "\n",
    "# Stylize the test images\n",
    "stylized_images = model.stylize(test_images)"
   ]
  },
  {
   "cell_type": "code",
   "execution_count": null,
   "metadata": {},
   "outputs": [],
   "source": [
    "stylized_images.explore()"
   ]
  },
  {
   "cell_type": "code",
   "execution_count": null,
   "metadata": {},
   "outputs": [],
   "source": [
    "'''\n",
    "from common.save_model import *\n",
    "\n",
    "When you are ready to save your model, your workflow \n",
    "should look like the following:\n",
    "\n",
    "# export to coreml\n",
    "coreml_model_name = \"recommender.mlmodel\"\n",
    "res = model.export_coreml(coreml_model_name)\n",
    "\n",
    "# compress the model\n",
    "compressed_model_name, compressed_model = compress_model(coreml_model_name)\n",
    "\n",
    "# save to Skafos\n",
    "skafos_save_model(skafos = ska, model_name = compressed_model_name,\n",
    "                                compressed_model = compressed_model,\n",
    "                                permissions = 'public')\n",
    "'''"
   ]
  }
 ],
 "metadata": {
  "kernelspec": {
   "display_name": "Python 3",
   "language": "python",
   "name": "python3"
  },
  "language_info": {
   "codemirror_mode": {
    "name": "ipython",
    "version": 3
   },
   "file_extension": ".py",
   "mimetype": "text/x-python",
   "name": "python",
   "nbconvert_exporter": "python",
   "pygments_lexer": "ipython3",
   "version": "3.6.6"
  }
 },
 "nbformat": 4,
 "nbformat_minor": 2
}
