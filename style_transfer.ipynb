{
 "cells": [
  {
   "cell_type": "code",
   "execution_count": 1,
   "metadata": {},
   "outputs": [],
   "source": [
    "from s3fs.core import S3FileSystem\n",
    "import turicreate as tc\n",
    "import os\n",
    "\n",
    "\n",
    "s3 = S3FileSystem(anon=True)"
   ]
  },
  {
   "cell_type": "code",
   "execution_count": 2,
   "metadata": {},
   "outputs": [],
   "source": [
    "style_paths = s3.ls(\"s3://skafos.example.data/StyleTransferImages/styles/\")\n",
    "content_paths = s3.ls(\"s3://skafos.example.data/StyleTransferImages/content/\")\n",
    "\n",
    "image_paths = style_paths + content_paths"
   ]
  },
  {
   "cell_type": "code",
   "execution_count": 13,
   "metadata": {},
   "outputs": [],
   "source": [
    "for _dir in ['content', 'styles']:\n",
    "    if not os.path.exists(_dir):\n",
    "        os.makedirs(_dir)"
   ]
  },
  {
   "cell_type": "code",
   "execution_count": 8,
   "metadata": {},
   "outputs": [],
   "source": [
    "styles = tc.SFrame(); content = tc.SFrame();\n",
    "for p in image_paths:\n",
    "    _type = p.split(\"/\")[-2]\n",
    "    local_path = \"/\".join(p.split(\"/\")[-2:])\n",
    "    img1 = s3.get(\"s3://\" + p, \"./\"+local_path)\n",
    "    if _type == \"styles\":\n",
    "        styles = styles.append(tc.load_images(local_path))\n",
    "    if _type == \"content\":\n",
    "        content = content.append(tc.load_images(local_path))\n",
    "        \n",
    "    "
   ]
  },
  {
   "cell_type": "code",
   "execution_count": 11,
   "metadata": {},
   "outputs": [
    {
     "name": "stdout",
     "output_type": "stream",
     "text": [
      "Using 'image' in style_dataset as feature column and using 'image' in content_dataset as feature column\n",
      "Setting max_iterations to be 5000\n",
      "Using GPU to create model (GeForce GTX 1060)\n",
      "WARNING:\n",
      "\n",
      "    You may not have enough free GPU memory to create this model, which may\n",
      "    result in a fatal crash or lower performance. We recommend that you have at\n",
      "    least 5548.4 MiB available on each GPU, while currently you have only 4834\n",
      "    MiB free (out of 6078 MiB) on GPU #0. Please close all other processes that\n",
      "    may be using this GPU.\n",
      "\n"
     ]
    },
    {
     "ename": "KeyboardInterrupt",
     "evalue": "",
     "output_type": "error",
     "traceback": [
      "\u001b[0;31m---------------------------------------------------------------------------\u001b[0m",
      "\u001b[0;31mKeyboardInterrupt\u001b[0m                         Traceback (most recent call last)",
      "\u001b[0;32m<ipython-input-11-85c1979ca71e>\u001b[0m in \u001b[0;36m<module>\u001b[0;34m\u001b[0m\n\u001b[1;32m      1\u001b[0m \u001b[0;31m# Create a Style Transfer model\u001b[0m\u001b[0;34m\u001b[0m\u001b[0;34m\u001b[0m\u001b[0m\n\u001b[0;32m----> 2\u001b[0;31m \u001b[0mmodel\u001b[0m \u001b[0;34m=\u001b[0m \u001b[0mtc\u001b[0m\u001b[0;34m.\u001b[0m\u001b[0mstyle_transfer\u001b[0m\u001b[0;34m.\u001b[0m\u001b[0mcreate\u001b[0m\u001b[0;34m(\u001b[0m\u001b[0mstyles\u001b[0m\u001b[0;34m,\u001b[0m \u001b[0mcontent\u001b[0m\u001b[0;34m)\u001b[0m\u001b[0;34m\u001b[0m\u001b[0m\n\u001b[0m",
      "\u001b[0;32m~/anaconda3/lib/python3.6/site-packages/turicreate/toolkits/style_transfer/style_transfer.py\u001b[0m in \u001b[0;36mcreate\u001b[0;34m(style_dataset, content_dataset, style_feature, content_feature, max_iterations, model, verbose, batch_size, **kwargs)\u001b[0m\n\u001b[1;32m    236\u001b[0m \u001b[0;34m\u001b[0m\u001b[0m\n\u001b[1;32m    237\u001b[0m         _tkutl._print_neural_compute_device(cuda_gpus=cuda_gpus, use_mps=False,\n\u001b[0;32m--> 238\u001b[0;31m                                             cuda_mem_req=cuda_mem_req, has_mps_impl=False)\n\u001b[0m\u001b[1;32m    239\u001b[0m     \u001b[0;31m#\u001b[0m\u001b[0;34m\u001b[0m\u001b[0;34m\u001b[0m\u001b[0m\n\u001b[1;32m    240\u001b[0m     \u001b[0;31m# Pre-compute gram matrices for style images\u001b[0m\u001b[0;34m\u001b[0m\u001b[0;34m\u001b[0m\u001b[0m\n",
      "\u001b[0;32m~/anaconda3/lib/python3.6/site-packages/turicreate/toolkits/_internal_utils.py\u001b[0m in \u001b[0;36m_print_neural_compute_device\u001b[0;34m(cuda_gpus, use_mps, cuda_mem_req, has_mps_impl)\u001b[0m\n\u001b[1;32m    639\u001b[0m         \u001b[0mprint\u001b[0m\u001b[0;34m(\u001b[0m\u001b[0;34m'Using GPU{} to create model ({})'\u001b[0m\u001b[0;34m.\u001b[0m\u001b[0mformat\u001b[0m\u001b[0;34m(\u001b[0m\u001b[0mplural\u001b[0m\u001b[0;34m,\u001b[0m \u001b[0mgpu_names\u001b[0m\u001b[0;34m)\u001b[0m\u001b[0;34m)\u001b[0m\u001b[0;34m\u001b[0m\u001b[0m\n\u001b[1;32m    640\u001b[0m         \u001b[0;32mif\u001b[0m \u001b[0mcuda_mem_req\u001b[0m \u001b[0;32mis\u001b[0m \u001b[0;32mnot\u001b[0m \u001b[0;32mNone\u001b[0m\u001b[0;34m:\u001b[0m\u001b[0;34m\u001b[0m\u001b[0m\n\u001b[0;32m--> 641\u001b[0;31m             \u001b[0m_mxnet_utils\u001b[0m\u001b[0;34m.\u001b[0m\u001b[0m_warn_if_less_than_cuda_free_memory\u001b[0m\u001b[0;34m(\u001b[0m\u001b[0mcuda_mem_req\u001b[0m\u001b[0;34m,\u001b[0m \u001b[0mmax_devices\u001b[0m\u001b[0;34m=\u001b[0m\u001b[0mnum_cuda_gpus\u001b[0m\u001b[0;34m)\u001b[0m\u001b[0;34m\u001b[0m\u001b[0m\n\u001b[0m\u001b[1;32m    642\u001b[0m     \u001b[0;32melse\u001b[0m\u001b[0;34m:\u001b[0m\u001b[0;34m\u001b[0m\u001b[0m\n\u001b[1;32m    643\u001b[0m         \u001b[0;32mimport\u001b[0m \u001b[0msys\u001b[0m\u001b[0;34m\u001b[0m\u001b[0m\n",
      "\u001b[0;32m~/anaconda3/lib/python3.6/site-packages/turicreate/toolkits/_mxnet_utils.py\u001b[0m in \u001b[0;36m_warn_if_less_than_cuda_free_memory\u001b[0;34m(mem_mb, max_devices, has_batch_size_setting)\u001b[0m\n\u001b[1;32m    177\u001b[0m             \u001b[0mprint\u001b[0m\u001b[0;34m(\u001b[0m\u001b[0;34m'   '\u001b[0m\u001b[0;34m,\u001b[0m \u001b[0mline\u001b[0m\u001b[0;34m)\u001b[0m\u001b[0;34m\u001b[0m\u001b[0m\n\u001b[1;32m    178\u001b[0m         \u001b[0mprint\u001b[0m\u001b[0;34m(\u001b[0m\u001b[0;34m)\u001b[0m\u001b[0;34m\u001b[0m\u001b[0m\n\u001b[0;32m--> 179\u001b[0;31m         \u001b[0mtime\u001b[0m\u001b[0;34m.\u001b[0m\u001b[0msleep\u001b[0m\u001b[0;34m(\u001b[0m\u001b[0;36m3\u001b[0m\u001b[0;34m)\u001b[0m\u001b[0;34m\u001b[0m\u001b[0m\n\u001b[0m\u001b[1;32m    180\u001b[0m \u001b[0;34m\u001b[0m\u001b[0m\n\u001b[1;32m    181\u001b[0m \u001b[0;34m\u001b[0m\u001b[0m\n",
      "\u001b[0;31mKeyboardInterrupt\u001b[0m: "
     ]
    }
   ],
   "source": [
    "# Create a Style Transfer model\n",
    "model = tc.style_transfer.create(styles, content)"
   ]
  },
  {
   "cell_type": "code",
   "execution_count": null,
   "metadata": {},
   "outputs": [],
   "source": [
    "# Save the model for later use in Turi Create\n",
    "model.save('./MyStyleTransfer.model')\n",
    "\n",
    "# Export for use in Core ML\n",
    "model.export_coreml('./MyStyleTransfer.mlmodel')"
   ]
  },
  {
   "cell_type": "code",
   "execution_count": null,
   "metadata": {},
   "outputs": [],
   "source": [
    "# Load some test images\n",
    "test_images = tc.load_images('./content/')\n",
    "\n",
    "# Stylize the test images\n",
    "stylized_images = model.stylize(test_images)"
   ]
  },
  {
   "cell_type": "code",
   "execution_count": null,
   "metadata": {},
   "outputs": [],
   "source": [
    "stylized_images.explore()"
   ]
  },
  {
   "cell_type": "code",
   "execution_count": null,
   "metadata": {},
   "outputs": [],
   "source": [
    "'''\n",
    "from common.save_model import *\n",
    "\n",
    "When you are ready to save your model, your workflow \n",
    "should look like the following:\n",
    "\n",
    "# export to coreml\n",
    "coreml_model_name = \"recommender.mlmodel\"\n",
    "res = model.export_coreml(coreml_model_name)\n",
    "\n",
    "# compress the model\n",
    "compressed_model_name, compressed_model = compress_model(coreml_model_name)\n",
    "\n",
    "# save to Skafos\n",
    "skafos_save_model(skafos = ska, model_name = compressed_model_name,\n",
    "                                compressed_model = compressed_model,\n",
    "                                permissions = 'public')\n",
    "'''"
   ]
  }
 ],
 "metadata": {
  "kernelspec": {
   "display_name": "Python 3",
   "language": "python",
   "name": "python3"
  },
  "language_info": {
   "codemirror_mode": {
    "name": "ipython",
    "version": 3
   },
   "file_extension": ".py",
   "mimetype": "text/x-python",
   "name": "python",
   "nbconvert_exporter": "python",
   "pygments_lexer": "ipython3",
   "version": "3.6.6"
  }
 },
 "nbformat": 4,
 "nbformat_minor": 2
}
