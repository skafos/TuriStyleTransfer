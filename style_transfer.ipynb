{
 "cells": [
  {
   "cell_type": "markdown",
   "metadata": {},
   "source": [
    "## **Turi Style Transfer**\n",
    "Welcome to the style transfer model quickstart on Skafos! The purpose of this notebook is to get you going end-to-end. Below we will do the following:\n",
    "\n",
    "- Load style and content images from S3\n",
    "- Build a style transfer model.\n",
    "- Convert the model to CoreML format and save it to the Skafos framework.\n",
    "\n",
    "The example is based on [Turi Create's Style Transfer example](https://apple.github.io/turicreate/docs/userguide/style_transfer/).\n",
    "\n",
    "--- \n",
    "\n",
    "Execute each cell one-by-one, by selecting the cell and do one of the following:\n",
    "\n",
    "-  Clicking the \"play\" button at the top of this frame.\n",
    "-  Typing 'Control + Enter' or 'Shift + Enter'."
   ]
  },
  {
   "cell_type": "code",
   "execution_count": null,
   "metadata": {},
   "outputs": [],
   "source": [
    "# If this is your first time in the JupyterLab workspace - install external dependencies\n",
    "from utilities.dependencies import install\n",
    "install(timeout=500)\n",
    "\n",
    "# No need to do this in the future for this notebook"
   ]
  },
  {
   "cell_type": "code",
   "execution_count": null,
   "metadata": {},
   "outputs": [],
   "source": [
    "# Import necessary libraries\n",
    "import os\n",
    "\n",
    "import coremltools\n",
    "import turicreate as tc\n",
    "from skafossdk import *\n",
    "from s3fs.core import S3FileSystem"
   ]
  },
  {
   "cell_type": "code",
   "execution_count": null,
   "metadata": {},
   "outputs": [],
   "source": [
    "# Initialize Skafos\n",
    "ska = Skafos()\n",
    "\n",
    "# Connect to S3\n",
    "s3 = S3FileSystem(anon=True)"
   ]
  },
  {
   "cell_type": "markdown",
   "metadata": {},
   "source": [
    "### 1. **Load the data**\n",
    "To obtain the data for this example, we performed the following steps:\n",
    "\n",
    "- We searched for plants (content) and abstract art images (style). \n",
    "- The style and content images were manually grabbed from [Pexels.com](https://www.pexels.com/) where you can find free stock images.\n",
    "- We uploaded the images to S3 so that they could be downloaded here.\n",
    "- Once pulled, the images were split into a `/contents` folder and `/styles` folder. \n",
    "- The images were loaded into 'SFrames' which are Turi Create data structures intended to load and hold data efficiently."
   ]
  },
  {
   "cell_type": "code",
   "execution_count": null,
   "metadata": {},
   "outputs": [],
   "source": [
    "# Get list of style paths and content paths from S3\n",
    "style_paths = s3.ls(\"s3://skafos.example.data/StyleTransferImages/styles/\")\n",
    "content_paths = s3.ls(\"s3://skafos.example.data/StyleTransferImages/content/\")\n",
    "image_paths = style_paths + content_paths\n",
    "\n",
    "# If the local paths don't exist, make them\n",
    "for _dir in ['content', 'styles']:\n",
    "    if not os.path.exists(_dir):\n",
    "        os.makedirs(_dir)\n",
    "        \n",
    "# Generate two empty image SFrames\n",
    "styles = tc.SFrame()\n",
    "content = tc.SFrame()\n",
    "\n",
    "# Loop over the image paths, adding them to the SFrames\n",
    "for p in image_paths:\n",
    "    \n",
    "    # Distinguish styles from content based on path\n",
    "    _type = p.split(\"/\")[-2]\n",
    "    local_path = \"/\".join(p.split(\"/\")[-2:])\n",
    "    img1 = s3.get(\"s3://\" + p, \"./\"+local_path) # download the image\n",
    "    \n",
    "    # Add the image to the appropriate SFrame\n",
    "    if _type == \"styles\":\n",
    "        styles = styles.append(tc.load_images(local_path))\n",
    "    if _type == \"content\":\n",
    "        content = content.append(tc.load_images(local_path))"
   ]
  },
  {
   "cell_type": "markdown",
   "metadata": {},
   "source": [
    "### 2. **Build the model**\n",
    "We pass the data to the `tc.style_transfer.create` function. To understand more about this specific function, check out the [Turi Create Documentation](https://apple.github.io/turicreate/docs/userguide/style_transfer/). In the `tc.style_transfer.create` function below, we set `max_iterations` to 1 for run time concerns. For more more about this, check out our documentation in the `advanced_usage` section of this repo or [Turi Create's documentation](https://apple.github.io/turicreate/docs/userguide/style_transfer/).\n",
    "\n",
    "**Note: GPU support is coming soon. The code below has been commented out because it will take a long time (~4 days) to train with CPUs. Additionally, if you don't update the training dataset, it will re-create the baseline style transfer model from the integration guide on the Skafos dashboard.**"
   ]
  },
  {
   "cell_type": "code",
   "execution_count": null,
   "metadata": {},
   "outputs": [],
   "source": [
    "# Build the Style Transfer model\n",
    "#model = tc.style_transfer.create(styles, content, max_iterations=1)"
   ]
  },
  {
   "cell_type": "markdown",
   "metadata": {},
   "source": [
    "### 3. **Deliver the model**\n",
    "Once your model has been created, it must be converted to CoreML and saved to the Skafos framework. Once saved, if you wish to push to your iOS devices, you can use the `.deliver()` method below. We've left that commented out for now."
   ]
  },
  {
   "cell_type": "code",
   "execution_count": null,
   "metadata": {},
   "outputs": [],
   "source": [
    "# Specify the CoreML model name\n",
    "model_name = 'StyleTransfer'\n",
    "coreml_model_name = model_name + '.mlmodel'\n",
    "\n",
    "# Export the trained model to CoreML format\n",
    "res = model.export_coreml(coreml_model_name) \n",
    "\n",
    "## Use coremltools to convert model weights to half-precision.\n",
    "## This may be necessary if you have memory concerns within your app\n",
    "#model_spec = coremltools.utils.load_spec(coreml_model_name)\n",
    "#model_fp16_spec = coremltools.utils.convert_neural_network_spec_weights_to_fp16(model_spec)\n",
    "#coremltools.utils.save_spec(model_fp16_spec, coreml_model_name)\n",
    "\n",
    "# Save model asset to Skafos\n",
    "ska.asset_manager.save(\n",
    "    name=model_name,              # Name used to load or deliver asset, also used within the Swift SDK.\n",
    "    files=coreml_model_name,      # File or list of files to bundle together as a versioned asset.\n",
    "    tags=['latest'],              # User-defined tags to help distinguish your asset.\n",
    "    access='public'               # Asset access- public/private.\n",
    ")"
   ]
  },
  {
   "cell_type": "code",
   "execution_count": null,
   "metadata": {},
   "outputs": [],
   "source": [
    "# Deliver asset to devices (push)\n",
    "#ska.asset_manager.deliver(\n",
    "#  name=model_name,                # Name used to load or deliver asset, also used within the Swift SDK.\n",
    "#  tag='latest',                   # User-defined tags to help distinguish your asset.\n",
    "#  dev=True                        # Push asset through Apple's APNS dev or prod server\n",
    "#)"
   ]
  }
 ],
 "metadata": {
  "kernelspec": {
   "display_name": "Python 3",
   "language": "python",
   "name": "python3"
  },
  "language_info": {
   "codemirror_mode": {
    "name": "ipython",
    "version": 3
   },
   "file_extension": ".py",
   "mimetype": "text/x-python",
   "name": "python",
   "nbconvert_exporter": "python",
   "pygments_lexer": "ipython3",
   "version": "3.6.5"
  }
 },
 "nbformat": 4,
 "nbformat_minor": 2
}
