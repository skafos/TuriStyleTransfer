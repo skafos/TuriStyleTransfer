{
 "cells": [
  {
   "cell_type": "markdown",
   "metadata": {},
   "source": [
    "## **Turi Create Style Transfer on Skafos**\n",
    "The below example code and more documentation on the approach can be found [here](https://apple.github.io/turicreate/docs/userguide/style_transfer/).\n",
    "This notebook does the following:\n",
    "1. Loads the data\n",
    "2. Builds the model\n",
    "3. Saves the model"
   ]
  },
  {
   "cell_type": "code",
   "execution_count": null,
   "metadata": {},
   "outputs": [],
   "source": [
    "from s3fs.core import S3FileSystem\n",
    "from common.load_turicreate import *\n",
    "tc = install_turicreate(timeout = 500, retries = 2)\n",
    "import os\n",
    "import save_models as sm\n",
    "from skafossdk import *"
   ]
  },
  {
   "cell_type": "code",
   "execution_count": null,
   "metadata": {},
   "outputs": [],
   "source": [
    "ska = Skafos() # initialize Skafos\n",
    "s3 = S3FileSystem(anon=True) # connect to S3"
   ]
  },
  {
   "cell_type": "markdown",
   "metadata": {},
   "source": [
    "### 1. **Load the data**\n",
    "The images below were manually grabbed from [Pexels.com](https://www.pexels.com/) where you can find free stock images. We used plants and some random art images to train this model. The data was split into a `/contents` folder and `/styles` folder."
   ]
  },
  {
   "cell_type": "code",
   "execution_count": null,
   "metadata": {},
   "outputs": [],
   "source": [
    "# get all the style and image paths from S3\n",
    "style_paths = s3.ls(\"s3://skafos.example.data/StyleTransferImages/styles/\")\n",
    "content_paths = s3.ls(\"s3://skafos.example.data/StyleTransferImages/content/\")\n",
    "image_paths = style_paths + content_paths\n",
    "\n",
    "# if the local paths don't exist, make them\n",
    "for _dir in ['content', 'styles']:\n",
    "    if not os.path.exists(_dir):\n",
    "        os.makedirs(_dir)\n",
    "        \n",
    "# generate two empty image SFrames\n",
    "styles = tc.SFrame(); content = tc.SFrame();\n",
    "\n",
    "# loop over the image paths, adding them to the SFrames\n",
    "for p in image_paths:\n",
    "    # distinguish styles from content based on path\n",
    "    _type = p.split(\"/\")[-2]\n",
    "    local_path = \"/\".join(p.split(\"/\")[-2:])\n",
    "    img1 = s3.get(\"s3://\" + p, \"./\"+local_path) # download the image\n",
    "    \n",
    "    # add the image to the SFrames\n",
    "    if _type == \"styles\":\n",
    "        styles = styles.append(tc.load_images(local_path))\n",
    "    if _type == \"content\":\n",
    "        content = content.append(tc.load_images(local_path))"
   ]
  },
  {
   "cell_type": "markdown",
   "metadata": {},
   "source": [
    "### 2. **Build the model**\n",
    "We pass the data to the `tc.style_transfer.create` function. To understand more about this specific function, check out the [Turi Create Documentation](https://apple.github.io/turicreate/docs/userguide/style_transfer/).\n",
    "\n",
    "_Note: we highly recommend running this on a GPU. We encourage you to do this once you've changed the data to reflect your use case. As benchmarks, we've found this takes about 90 minutes on a GPU and about 3 days on Skafos with 6 CPU's and 10G of memory. For this reason, we've commented out the model running and model saving below._"
   ]
  },
  {
   "cell_type": "code",
   "execution_count": null,
   "metadata": {},
   "outputs": [],
   "source": [
    "## Build the Style Transfer model\n",
    "#model = tc.style_transfer.create(styles, content)"
   ]
  },
  {
   "cell_type": "markdown",
   "metadata": {},
   "source": [
    "### 3. **Save the model**\n",
    "We save the model to Skafos so that you can download it into your project later without having to always retrain the model."
   ]
  },
  {
   "cell_type": "code",
   "execution_count": null,
   "metadata": {},
   "outputs": [],
   "source": [
    "## export to coreml\n",
    "#coreml_model_name = \"style_transfer.mlmodel\"\n",
    "#res = model.export_coreml(coreml_model_name)\n",
    "\n",
    "## compress the model\n",
    "#compressed_model_name, compressed_model = sm.compress_model(coreml_model_name)\n",
    "\n",
    "## save to Skafos\n",
    "#sm.skafos_save_model(skafos = ska, model_name = compressed_model_name,\n",
    "#                                compressed_model = compressed_model,\n",
    "#                                permissions = 'public')"
   ]
  }
 ],
 "metadata": {
  "kernelspec": {
   "display_name": "Python 3",
   "language": "python",
   "name": "python3"
  },
  "language_info": {
   "codemirror_mode": {
    "name": "ipython",
    "version": 3
   },
   "file_extension": ".py",
   "mimetype": "text/x-python",
   "name": "python",
   "nbconvert_exporter": "python",
   "pygments_lexer": "ipython3",
   "version": "3.6.6"
  }
 },
 "nbformat": 4,
 "nbformat_minor": 2
}
