{
 "cells": [
  {
   "cell_type": "markdown",
   "metadata": {},
   "source": [
    "## **Turi Style Transfer**\n",
    "Welcome to the style transfer model quickstart on Skafos! The purpose of this notebook is to get you going end-to-end. Below we will do the following:\n",
    "\n",
    "- Load style and content images from S3\n",
    "- Build a style transfer model.\n",
    "- Convert the model to CoreML format and save it to the Skafos framework.\n",
    "\n",
    "The example is based on [Turi Create's Style Transfer example](https://apple.github.io/turicreate/docs/userguide/style_transfer/).\n",
    "\n",
    "--- \n",
    "\n",
    "Execute each cell one-by-one, by selecting the cell and do one of the following:\n",
    "\n",
    "-  Clicking the \"play\" button at the top of this frame.\n",
    "-  Typing 'Control + Enter' or 'Shift + Enter'."
   ]
  },
  {
   "cell_type": "code",
   "execution_count": null,
   "metadata": {},
   "outputs": [],
   "source": [
    "# Import necessary libraries\n",
    "import os\n",
    "\n",
    "from skafossdk import *\n",
    "import utilities.save_models as sm\n",
    "from utilities.dependencies import install\n",
    "install(timeout=500, retries=2)  # check to make sure turicreate is installed\n",
    "\n",
    "from s3fs.core import S3FileSystem\n",
    "import turicreate as tc\n",
    "\n",
    "import coremltools"
   ]
  },
  {
   "cell_type": "code",
   "execution_count": null,
   "metadata": {},
   "outputs": [],
   "source": [
    "ska = Skafos() # initialize Skafos\n",
    "s3 = S3FileSystem(anon=True) # connect to S3"
   ]
  },
  {
   "cell_type": "markdown",
   "metadata": {},
   "source": [
    "### 1. **Load the data**\n",
    "To obtain the data for this example, we performed the following steps:\n",
    "\n",
    "- We searched for plants (content) and abstract art images (style). \n",
    "- The style and content images were manually grabbed from [Pexels.com](https://www.pexels.com/) where you can find free stock images.\n",
    "- We uploaded the images to S3 so that they could be downloaded here.\n",
    "- Once pulled, the images were split into a `/contents` folder and `/styles` folder. \n",
    "- The images were loaded into 'SFrames' which are Turi Create data structures intended to load and hold data efficiently."
   ]
  },
  {
   "cell_type": "code",
   "execution_count": null,
   "metadata": {},
   "outputs": [],
   "source": [
    "# Get list of style paths and content paths from S3\n",
    "style_paths = s3.ls(\"s3://skafos.example.data/StyleTransferImages/styles/\")\n",
    "content_paths = s3.ls(\"s3://skafos.example.data/StyleTransferImages/content/\")\n",
    "image_paths = style_paths + content_paths\n",
    "\n",
    "# If the local paths don't exist, make them\n",
    "for _dir in ['content', 'styles']:\n",
    "    if not os.path.exists(_dir):\n",
    "        os.makedirs(_dir)\n",
    "        \n",
    "# Generate two empty image SFrames\n",
    "styles = tc.SFrame()\n",
    "content = tc.SFrame()\n",
    "\n",
    "# Loop over the image paths, adding them to the SFrames\n",
    "for p in image_paths:\n",
    "    \n",
    "    # Distinguish styles from content based on path\n",
    "    _type = p.split(\"/\")[-2]\n",
    "    local_path = \"/\".join(p.split(\"/\")[-2:])\n",
    "    img1 = s3.get(\"s3://\" + p, \"./\"+local_path) # download the image\n",
    "    \n",
    "    # Add the image to the appropriate SFrame\n",
    "    if _type == \"styles\":\n",
    "        styles = styles.append(tc.load_images(local_path))\n",
    "    if _type == \"content\":\n",
    "        content = content.append(tc.load_images(local_path))"
   ]
  },
  {
   "cell_type": "markdown",
   "metadata": {},
   "source": [
    "### 2. **Build the model**\n",
    "We pass the data to the `tc.style_transfer.create` function. To understand more about this specific function, check out the [Turi Create Documentation](https://apple.github.io/turicreate/docs/userguide/style_transfer/). In the `tc.style_transfer.create` function below, we set `max_iterations` to 1 for run time concerns. For more more about this, check out our documentation in the `advanced_usage` section of this repo or [Turi Create's documentation](https://apple.github.io/turicreate/docs/userguide/style_transfer/).\n",
    "\n",
    "**Note: The code below has been commented because we highly recommend running this model using a GPU. If you uncomment the second line and run this cell as written, it will use a CPU, take approximately 4 days, and will re-create the style transfer model. Once you have loaded your own data, uncomment these lines to train your style transfer model. It will currently use a CPU, but GPU support is coming soon.**"
   ]
  },
  {
   "cell_type": "code",
   "execution_count": null,
   "metadata": {},
   "outputs": [],
   "source": [
    "## Build the Style Transfer model\n",
    "# model = tc.style_transfer.create(styles, content, max_iterations=1)"
   ]
  },
  {
   "cell_type": "markdown",
   "metadata": {},
   "source": [
    "### 3. **Save the model**\n",
    "Once your model has been created, it must be saved to the Skafos framework via the code below. This will trigger a push to your mobile app."
   ]
  },
  {
   "cell_type": "code",
   "execution_count": null,
   "metadata": {},
   "outputs": [],
   "source": [
    "## Export the model to CoreML\n",
    "\n",
    "# Specify the CoreML model name\n",
    "#coreml_model_name = 'StyleTransfer.mlmodel'\n",
    "# Specify the name of the compressed model we save to Skafos\n",
    "#compressed_model_name = coreml_model_name + \".gz\" \n",
    "\n",
    "# Export the trained model to CoreML format\n",
    "#res = model.export_coreml(coreml_model_name) \n",
    "\n",
    "## Use coremltools to convert model weights to half-precision.\n",
    "## This may be necessary if you have memory concerns within your app\n",
    "#model_spec = coremltools.utils.load_spec(coreml_model_name)\n",
    "#model_fp16_spec = coremltools.utils.convert_neural_network_spec_weights_to_fp16(model_spec)\n",
    "#coremltools.utils.save_spec(model_fp16_spec, coreml_model_name)\n",
    "\n",
    "# Compress the model\n",
    "#compressed_model = sm.compress_model(coreml_model_name)\n",
    "\n",
    "# Save to Skafos\n",
    "#sm.skafos_save_model(\n",
    "#    skafos=ska, \n",
    "#    model_name=compressed_model_name,\n",
    "#    compressed_model=compressed_model,\n",
    "#    permissions='public'\n",
    "# )"
   ]
  },
  {
   "cell_type": "code",
   "execution_count": null,
   "metadata": {},
   "outputs": [],
   "source": []
  }
 ],
 "metadata": {
  "kernelspec": {
   "display_name": "Python 3",
   "language": "python",
   "name": "python3"
  },
  "language_info": {
   "codemirror_mode": {
    "name": "ipython",
    "version": 3
   },
   "file_extension": ".py",
   "mimetype": "text/x-python",
   "name": "python",
   "nbconvert_exporter": "python",
   "pygments_lexer": "ipython3",
   "version": "3.6.6"
  }
 },
 "nbformat": 4,
 "nbformat_minor": 2
}
