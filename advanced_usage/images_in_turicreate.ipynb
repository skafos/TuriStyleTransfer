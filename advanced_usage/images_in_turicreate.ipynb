{
 "cells": [
  {
   "cell_type": "markdown",
   "metadata": {},
   "source": [
    "# **Getting Images into the TuriCreate framework**\n",
    "In the example we provided in `image_classifier.ipynb`, we used the Kaggle Cats and Dogs dataset, provided as a `.tar.gz` file. However, your image data may be in a different format or file structure. This notebook is intended as an example for how to take a dataset in a different format and get it into the Turi Create framework. \n",
    "\n",
    "Turi Create likes to load images from a directory where you pass the directory to the function `tc.load_images('directory_name')`. \n",
    "\n",
    "In this example, we are using the popular CIFAR-10 dataset which can be downloaded [here](https://www.cs.toronto.edu/~kriz/cifar.html). You will need to use the CIFAR-10 Python version. \n",
    "\n",
    "Importing this data into the Turi Create framework requires the following steps:\n",
    "\n",
    "1. Batch load all of the CIFAR-10 images from the link above into a dictionary\n",
    "2. Save this object into a local folder. This is because loading in-memory images into Turi Create is currently difficult, but loading from a file is easy. For more context, see:  https://github.com/apple/turicreate/issues/119\n",
    "3. Load the images from this folder into Turi Create using `tc.load_images('directory_name')`\n",
    "4. Identify the labels for each image based on the file path. "
   ]
  },
  {
   "cell_type": "code",
   "execution_count": 1,
   "metadata": {},
   "outputs": [],
   "source": [
    "# First, we will need to import the necessary libraries and create some helper functions. \n",
    "import os\n",
    "import pickle\n",
    "from PIL import Image\n",
    "\n",
    "import pandas as pd\n",
    "import numpy as np; \n",
    "import turicreate as tc\n"
   ]
  },
  {
   "cell_type": "code",
   "execution_count": 2,
   "metadata": {},
   "outputs": [],
   "source": [
    "# Helper functions\n",
    "\n",
    "# cifar images come in 'batches' that are pickle files, we use this helper to load the batches\n",
    "def unpickle(file):\n",
    "    with open(file, 'rb') as fo:\n",
    "        _batch = pickle.load(fo, encoding='bytes')\n",
    "    return _batch\n",
    "\n",
    "# this was written to write the image to local file\n",
    "# Loading in-memory images to a Turi Create SFrame is not easy, loading from file easy \n",
    "def save_cifar_image(img, img_name, folder):\n",
    "    try:\n",
    "        img_reshaped = np.transpose(np.reshape(img, (3, 32,32)), (1,2,0))\n",
    "        image = Image.fromarray(img_reshaped.astype(np.int8), 'RGB')\n",
    "        image.save(f\"{folder}/{img_name.decode('utf-8')}\")\n",
    "        return {'success' : True}\n",
    "    except Exception as e:\n",
    "        return {'success' : False}"
   ]
  },
  {
   "cell_type": "markdown",
   "metadata": {},
   "source": [
    "### **1. Batch Load the data**\n",
    "Prior to this, make sure you've downloaded and extracted the **cifar-10-batches-py** from the CIFAR-10 website linked [here](https://www.cs.toronto.edu/~kriz/cifar.html)"
   ]
  },
  {
   "cell_type": "code",
   "execution_count": 3,
   "metadata": {},
   "outputs": [],
   "source": [
    "# iterate over the batches, storing the image data and file names\n",
    "master_batch = {'data': [], 'filenames' : []}\n",
    "for i in range(5):\n",
    "    batch = unpickle(f\"./cifar-10-batches-py/data_batch_{i+1}\")\n",
    "    # append batch data and filenames to our master batch\n",
    "    master_batch['data'] += list(batch[b'data'])\n",
    "    master_batch['filenames'] += list(batch[b'filenames']) "
   ]
  },
  {
   "cell_type": "markdown",
   "metadata": {},
   "source": [
    "### **2. Save the data to a folder**\n",
    "We take the object we created from loading the data and save it to a folder titled **cifar-10**."
   ]
  },
  {
   "cell_type": "code",
   "execution_count": 4,
   "metadata": {},
   "outputs": [
    {
     "name": "stdout",
     "output_type": "stream",
     "text": [
      "Write success for 100.0 % of results\n"
     ]
    }
   ],
   "source": [
    "# iterate over all images in master batch, saving to a folder titled cifar-10\n",
    "write_results = []\n",
    "os.mkdir(\"cifar-10\")\n",
    "for i in range(len(master_batch['data'])):\n",
    "    # we save the images to file, keeping track of successes and failures\n",
    "    write_results.append(save_cifar_image(master_batch['data'][i], master_batch['filenames'][i], './cifar-10')['success'])\n",
    "\n",
    "print(f\"Write success for {100 * (np.sum(write_results)/len(write_results))} % of results\")"
   ]
  },
  {
   "cell_type": "markdown",
   "metadata": {},
   "source": [
    "### **3. Load into Turi Create**\n",
    "We load the images using Turi Create's built in `tc.load_images` function."
   ]
  },
  {
   "cell_type": "code",
   "execution_count": 5,
   "metadata": {},
   "outputs": [],
   "source": [
    "cifar = tc.load_images('cifar-10') # turi create recursively loads all the images in 'cifar-10' and loads them into an SFrame"
   ]
  },
  {
   "cell_type": "markdown",
   "metadata": {},
   "source": [
    "### **4. Create a label column**\n",
    "In order to build this model, you will need to create a target for each image. The target is a label for each image and identifies it as an automobile, bird, cat, etc. For this data, the file path indicates the label for the image. "
   ]
  },
  {
   "cell_type": "code",
   "execution_count": 6,
   "metadata": {},
   "outputs": [],
   "source": [
    "# create a label column based on the path\n",
    "cifar['label'] = cifar['path'].apply(lambda x: '_'.join(x.split(\"/\")[-1].split(\"_\")[0:-2]))"
   ]
  },
  {
   "cell_type": "markdown",
   "metadata": {},
   "source": [
    "### **Fit a model**\n",
    "To build a model with this data, you would call the `tc.image_classifier.create` function as shown below. "
   ]
  },
  {
   "cell_type": "code",
   "execution_count": null,
   "metadata": {},
   "outputs": [],
   "source": [
    "# build an image sim\n",
    "# image_classifier = tc.image_classifier.create(cifar, target='label')"
   ]
  }
 ],
 "metadata": {
  "kernelspec": {
   "display_name": "Python 3",
   "language": "python",
   "name": "python3"
  },
  "language_info": {
   "codemirror_mode": {
    "name": "ipython",
    "version": 3
   },
   "file_extension": ".py",
   "mimetype": "text/x-python",
   "name": "python",
   "nbconvert_exporter": "python",
   "pygments_lexer": "ipython3",
   "version": "3.6.5"
  }
 },
 "nbformat": 4,
 "nbformat_minor": 2
}
